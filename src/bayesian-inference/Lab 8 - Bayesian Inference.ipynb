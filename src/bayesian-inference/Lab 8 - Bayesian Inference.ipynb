{
 "cells": [
  {
   "cell_type": "markdown",
   "metadata": {
    "collapsed": true
   },
   "source": [
    "# Lab 8 - Bayesian Inference\n",
    "\n",
    "In the 8th lab of the course, we will study Bayesian Inference in practice.\n",
    "\n",
    "We will explore the use of Bayesian inference thought a Decision Making example."
   ]
  },
  {
   "cell_type": "code",
   "execution_count": 74,
   "metadata": {},
   "outputs": [],
   "source": [
    "import numpy as np"
   ]
  },
  {
   "cell_type": "markdown",
   "metadata": {},
   "source": [
    "# Assignment 1: Bayesian Decision Making\n",
    "\n",
    "## N Meteorologies Problem\n",
    "\n",
    "In this assignment, we explore the challenge of dealing with predictions from N different meteorologies, each forecasting whether it will rain the next day. Specifically, each meteorology predicts the likelihood of rain for the following day.\n",
    "\n",
    "To be more precise, we can interpret each meteorology as a model that predicts whether it will rain or not. Mathematically, this is expressed as $P(y | M_i)$ for each $i \\in M$, where $M$ is the set of possible meteorologies. Here, the random variable $y$ indicates whether it will rain or not (where $y = 1$ means rain and $y = 0$ means no rain). The output of each model, $P(y = 1 | M_i)$, represents the probability of rain for the next day.\n",
    "\n",
    "For the purposes of this exercise, we assume that we have $N = 3$ different meteorologies for simplicity.  \n",
    "The set $M$ is defined as $M = \\{M1, M2, M3\\}$.\n"
   ]
  },
  {
   "cell_type": "markdown",
   "metadata": {},
   "source": [
    "# Step 1.1 Marginal Probability\n",
    "\n",
    "Let's assume that, for the first day, we have no clue about which meteorology is the best. In the Bayesian interpretation, this means our prior belief is the same for every meteorology. In other words, our belief is $P(M_i) = 1/N$ for every $i \\in M$.\n",
    "\n",
    "Furthermore, the predicted probability of rain for the different meteorological stations, $P(y=1|M)$, is given by the following list of numbers: $[0.1, 0.5, 0.7]$.\n",
    "\n",
    "One way to produce our final estimation of rain is to use the Bayesian Marginal prediction:\n",
    "\n",
    "$$p_{\\text{marginal}}(y) =  \\sum_{i \\in M} p(y \\mid M_i) \\cdot P(M_i)$$\n",
    "\n",
    "The marginal prediction is the average of the predictions of each meteorology weighted by our belief.  \n",
    "In other words, it is weighted by how much we trust each meteorology.\n",
    "\n",
    "After obtaining the marginal prediction $p_{\\text{marginal}}(y)$, we can select our final prediction (or action) $a$ that maximizes the marginal prediction:\n",
    "\n",
    "$$a = \\arg \\max_{y} \\; p_{\\text{marginal}}(y)$$\n"
   ]
  },
  {
   "cell_type": "markdown",
   "metadata": {},
   "source": [
    "**Complete the following steps**:  \n",
    "A) Define a vector with the initial prior belief over the models p(M).  \n",
    "B) Create a function to calculate the marginal prediction $p_{\\text{marginal}}(y)$ for spesific y.   \n",
    "C) Make your final action (or prediction) that maximisise the Bayesian marginal prediction."
   ]
  },
  {
   "cell_type": "code",
   "execution_count": 75,
   "metadata": {},
   "outputs": [],
   "source": [
    "def get_marginal_prediction(y: int, prior: np.ndarray, p_y_m: np.ndarray) -> np.ndarray:\n",
    "    \"\"\"\n",
    "    Calculate the marginal prediction for a specific outcome y.\n",
    "\n",
    "    :param y: The outcome for which the marginal prediction is calculated (0 or 1).\n",
    "    :param prior: Prior belief over the models.\n",
    "    :param p_y_m: Probability of y given the model, shape (2, n_model).\n",
    "    :return: The marginal prediction for the outcome y.\n",
    "    \"\"\"\n",
    "    return np.sum(p_y_m[y] * prior)"
   ]
  },
  {
   "cell_type": "code",
   "execution_count": 76,
   "metadata": {},
   "outputs": [],
   "source": [
    "propability_rain_model = np.array([0.1, 0.5, 0.7]) # p( y=1 | M )\n",
    "propability_model = np.array([1-propability_rain_model, propability_rain_model]) # p(y|M)"
   ]
  },
  {
   "cell_type": "code",
   "execution_count": 77,
   "metadata": {},
   "outputs": [],
   "source": [
    "# A) define prior\n",
    "n_model = propability_model.shape[1]\n",
    "prior = np.full(n_model, 1/n_model)"
   ]
  },
  {
   "cell_type": "code",
   "execution_count": 78,
   "metadata": {},
   "outputs": [],
   "source": [
    "# B) calculate marginal prediction\n",
    "p_y_marginal = np.array([get_marginal_prediction(y, prior, propability_model) for y in [0, 1]])"
   ]
  },
  {
   "cell_type": "code",
   "execution_count": 79,
   "metadata": {},
   "outputs": [],
   "source": [
    "# C) calculate the prediction that maximise the marginal predictions\n",
    "final_actions = np.argmax(p_y_marginal)  # Choose the action with the highest marginal probability"
   ]
  },
  {
   "cell_type": "code",
   "execution_count": 80,
   "metadata": {},
   "outputs": [
    {
     "data": {
      "text/plain": [
       "(array([0.56666667, 0.43333333]), 0)"
      ]
     },
     "execution_count": 80,
     "metadata": {},
     "output_type": "execute_result"
    }
   ],
   "source": [
    "p_y_marginal, final_actions"
   ]
  },
  {
   "cell_type": "code",
   "execution_count": 81,
   "metadata": {},
   "outputs": [
    {
     "name": "stdout",
     "output_type": "stream",
     "text": [
      "Our final prediction is : 0\n"
     ]
    }
   ],
   "source": [
    "print(\"Our final prediction is :\", final_actions)"
   ]
  },
  {
   "cell_type": "markdown",
   "metadata": {},
   "source": [
    "The final prediction is 0 indicating that, based on the marginal probabilities, the outcome with no rain is more likely."
   ]
  },
  {
   "cell_type": "markdown",
   "metadata": {},
   "source": [
    "# Step 1.2 Decision According to Utility\n",
    "\n",
    "In some applications, our decisions (or actions) significantly affect people.\n",
    "\n",
    "Consider the case of wrongly predicting the weather. Wrongly predicting bad weather affects people less. In contrast, wrongly predicting good weather may have a significant impact on people.\n",
    "\n",
    "One way to adjust our actions according to the effect on the user is to define an additional utility function $U(a, y)$ that outputs a scalar indicating how much our final actions are affected by the outcome $y$.\n",
    "\n",
    "We can then select the action $a$ that maximizes the expected utility $u(a) = E_{y \\sim p_m(y)}[U(a,y)]$ according to our model $p_m$ to estimate the outcome $y$.\n",
    "\n",
    "The expected utility is defined as follows:\n",
    "$$ u(a) = E_{y \\sim p_m(y)}[U(a,y)] = \\sum_y U[a,y] p_m(y) $$\n",
    "\n",
    "And the final action $a^{\\star}$ is the one that maximizes the expected utility:\n",
    "$$ a^{\\star} = \\arg \\max_{y} \\;  u(a) = \\arg \\max_{y} \\;  \\sum_y U[a,y] p_m(y)  $$\n",
    "\n",
    "In our example, we have the following utility function $U[a,y]$:\n",
    "\n",
    "$$\n",
    "U[a,y] = \\begin{bmatrix}\n",
    "           1  & -10 \\\\\n",
    "          -1 & 1\n",
    "        \\end{bmatrix}\n",
    "$$\n",
    "\n",
    "So, if our prediction (or action) is correct, i.e., $a = y$ (diagonal of the matrix), then we get a utility of 1.  \n",
    "If our action is 0 (no rain) and it's actually raining ($y=1$), then we incur a big penalty of -10.  \n",
    "If our action is 1 (rain) and it's actually not raining ($y=0$), then we incur a small penalty.\n"
   ]
  },
  {
   "cell_type": "markdown",
   "metadata": {},
   "source": [
    "**Complete the following steps**:  \n",
    "A) Fill the function bellow, that calculates the expected utility of an action $a$ aconding to a utility function U, and a model $p_m$  \n",
    "B) Produce the final action $a^{\\star}$ that maximise the expected utility acording to the marginal model, and the utility function defined above.  \n",
    "C) Comment of the result."
   ]
  },
  {
   "cell_type": "code",
   "execution_count": 82,
   "metadata": {},
   "outputs": [],
   "source": [
    "def get_expected_utility(action: int, model: np.ndarray, U: np.ndarray) -> float:\n",
    "    \"\"\"\n",
    "    Calculates the expected utility of an action 'a', according to a model 'model', for a specific utility function 'U'.\n",
    "    \"\"\"\n",
    "    return sum(U[action, y] * model[y] for y in range(len(model)))"
   ]
  },
  {
   "cell_type": "code",
   "execution_count": 83,
   "metadata": {},
   "outputs": [],
   "source": [
    "U = np.array([[1, -10],\n",
    "              [-1, 1]])"
   ]
  },
  {
   "cell_type": "code",
   "execution_count": 84,
   "metadata": {},
   "outputs": [],
   "source": [
    "p_m = np.array(p_y_marginal)"
   ]
  },
  {
   "cell_type": "code",
   "execution_count": 85,
   "metadata": {},
   "outputs": [],
   "source": [
    "# find the best \n",
    "u_a_0 = get_expected_utility(0, p_m, U)\n",
    "u_a_1 = get_expected_utility(1, p_m, U)\n",
    "\n",
    "final_actions_utility = np.argmax([u_a_0, u_a_1])"
   ]
  },
  {
   "cell_type": "code",
   "execution_count": 86,
   "metadata": {},
   "outputs": [
    {
     "data": {
      "text/plain": [
       "(2,)"
      ]
     },
     "execution_count": 86,
     "metadata": {},
     "output_type": "execute_result"
    }
   ],
   "source": [
    "p_y_marginal.shape"
   ]
  },
  {
   "cell_type": "code",
   "execution_count": 87,
   "metadata": {},
   "outputs": [
    {
     "name": "stdout",
     "output_type": "stream",
     "text": [
      "Our final prediction is : 1\n"
     ]
    }
   ],
   "source": [
    "print(\"Our final prediction is :\", final_actions_utility)"
   ]
  },
  {
   "cell_type": "markdown",
   "metadata": {},
   "source": [
    "# Step 1.3 Updating Belief\n",
    "\n",
    "After collecting our data $D$, in our example, if it actually rains ($y_{\\text{true}}$), it makes sense to update our belief $p(M)$ about the best model.\n",
    "\n",
    "Using the Bayesian interpretation, we can update the belief $p(M)$ by calculating the posterior distribution:\n",
    "\n",
    "$$ p(M_i|y_{\\text{true}}) = \\frac{p(y_{\\text{true}}|M_i) \\cdot p(M_i)}{p(y_{\\text{true}})} $$\n",
    "\n",
    "$$ = \\frac{p(y_{\\text{true}}|M_i) \\cdot p(M_i)}{\\sum_{j \\in M} p(y_{\\text{true}}|M_j) \\cdot p(M_j)} $$\n",
    "\n",
    "Then, until we observe some new data, we can use the posterior as our new prior $p(M)$.\n"
   ]
  },
  {
   "cell_type": "markdown",
   "metadata": {},
   "source": [
    "**Complete the following steps**:  \n",
    "A) Create a function that calculate the posterior propability distribution.  \n",
    "B) Calculate the posterior is the case that the true outcome is y = 1 (rain).  \n",
    "C) Compare the vulues of the posterior with the values of the prior, comment on the results.  \n",
    "D) Set the prior to be equal to the posterior, in order to update your belief for the next predictions.  "
   ]
  },
  {
   "cell_type": "code",
   "execution_count": 88,
   "metadata": {},
   "outputs": [],
   "source": [
    "# A) Function to calculate the posterior probability distribution\n",
    "def get_posterior(prior: np.ndarray, P: np.ndarray, outcome: int) -> np.ndarray:\n",
    "    \"\"\"\n",
    "    Calculate the posterior given a prior belief, a set of predictions, and an outcome.\n",
    "    - prior: belief vector such that prior[i] is the probability of model i being correct.\n",
    "    - P: p(y|m), P[y][m] is the probability the m-th model assigns to the y-th outcome.\n",
    "    - outcome: actual outcome.\n",
    "    \"\"\"\n",
    "    # Calculating the numerator for each model\n",
    "    numerator = P[outcome] * prior\n",
    "    # Calculating the denominator (normalizing factor)\n",
    "    denominator = np.sum(numerator)\n",
    "    # Calculating the posterior for each model\n",
    "    posterior = numerator / denominator\n",
    "    return posterior"
   ]
  },
  {
   "cell_type": "code",
   "execution_count": 89,
   "metadata": {},
   "outputs": [],
   "source": [
    "y_true = 1\n",
    "# 1/3, 1/3, 1/3 equal belief in all models\n",
    "prior = np.array([1/3, 1/3, 1/3])"
   ]
  },
  {
   "cell_type": "code",
   "execution_count": 90,
   "metadata": {},
   "outputs": [],
   "source": [
    "# B) calculate the posterior, based on the true outcome, and the old model\n",
    "posterior = get_posterior(prior, propability_model, y_true)"
   ]
  },
  {
   "cell_type": "code",
   "execution_count": 91,
   "metadata": {},
   "outputs": [
    {
     "name": "stdout",
     "output_type": "stream",
     "text": [
      "Prior distribution: [0.33333333 0.33333333 0.33333333]\n",
      "Posterior distribution: [0.07692308 0.38461538 0.53846154]\n"
     ]
    }
   ],
   "source": [
    "# C) compare prior and posterior\n",
    "print(\"Prior distribution:\", prior)\n",
    "print(\"Posterior distribution:\", posterior)\n",
    "\n",
    "# try to add some comment? what you observe?\n",
    "# Prior distribution: [0.33333333 0.33333333 0.33333333]\n",
    "# Posterior distribution: [0.07692308 0.38461538 0.53846154]"
   ]
  },
  {
   "cell_type": "markdown",
   "metadata": {},
   "source": [
    "- The posterior probabilities have shifted significantly from the prior probabilities.\n",
    "- The third model (with an initial rain prediction probability of 0.7) now has the highest posterior probability (~0.54), indicating increased trust in this model based on the actual outcome of rain.\n",
    "- The first model's trust has decreased the most (to ~0.08), reflecting its low initial prediction of rain (0.1)."
   ]
  },
  {
   "cell_type": "code",
   "execution_count": 92,
   "metadata": {},
   "outputs": [
    {
     "data": {
      "text/plain": [
       "(array([0.07692308, 0.38461538, 0.53846154]),\n",
       " array([0.07692308, 0.38461538, 0.53846154]))"
      ]
     },
     "execution_count": 92,
     "metadata": {},
     "output_type": "execute_result"
    }
   ],
   "source": [
    "# D) update prior\n",
    "prior = posterior\n",
    "prior, posterior"
   ]
  },
  {
   "cell_type": "markdown",
   "metadata": {},
   "source": [
    "# Step 1.4 Sequential desition making\n",
    "\n",
    "To wrap up everything above, consider the case that we sequentialy have to estimation our actions $a$ based on our belief about the model p(m). \n",
    "\n",
    "For 3 consequtive days we get sequential prediction from the different meteorologies.\n",
    "After each day we also observe the true outcome, so we update our prior to make the action of the next day.\n",
    "\n",
    "The predictions and the true outcome is given in the followin code block.\n",
    "\n"
   ]
  },
  {
   "cell_type": "markdown",
   "metadata": {},
   "source": [
    "**Complete the following steps**:  \n",
    "Iterate over the different days and:\n",
    "A) Calculate the marginal prediction  \n",
    "B) Select the action that magimise the marginal prediction  \n",
    "C) Select the action the maximise the expected utility based on the marginal model  \n",
    "D) Update the prior using the posterior of the true outcome  \n",
    "E) Comment on the final results"
   ]
  },
  {
   "cell_type": "code",
   "execution_count": 93,
   "metadata": {},
   "outputs": [],
   "source": [
    "T = 3 # number of time steps\n",
    "n_models = 3 # number of models\n",
    "\n",
    "# build predictions for each station of rain probability\n",
    "predictions = np.array( \n",
    "                       [[0.1, 0.4, 0.7], # day 1\n",
    "                        [0.1, 0.1, 0.8], # day 2\n",
    "                        [0.3, 0.6, 0.9]] # day 3\n",
    "                      )\n",
    "\n",
    "\n",
    "true_y = [0, 0, 1]\n",
    "n_outcomes = 2 # 0 = no rain, 1 = rain"
   ]
  },
  {
   "cell_type": "code",
   "execution_count": 94,
   "metadata": {},
   "outputs": [
    {
     "name": "stdout",
     "output_type": "stream",
     "text": [
      "-------iteration day 0\n",
      "Prior  p(m) =  [0.15 0.5  0.35]\n",
      "Predictions p(y=1|m) =  [0.1 0.4 0.7]\n",
      "True outcome =  0\n",
      "Marginal prediction, p_marginal(y=1) =  0.5384615384615384\n",
      "Action that maximise the marginal model: 1\n",
      "Action that maximise the expected utility U according to the marginal model: 1\n",
      "Posterior: [0.15 0.5  0.35]\n",
      "\n",
      "\n",
      "-------iteration day 1\n",
      "Prior  p(m) =  [0.20610687 0.6870229  0.10687023]\n",
      "Predictions p(y=1|m) =  [0.1 0.1 0.8]\n",
      "True outcome =  0\n",
      "Marginal prediction, p_marginal(y=1) =  0.345\n",
      "Action that maximise the marginal model: 0\n",
      "Action that maximise the expected utility U according to the marginal model: 1\n",
      "Posterior: [0.20610687 0.6870229  0.10687023]\n",
      "\n",
      "\n",
      "-------iteration day 2\n",
      "Prior  p(m) =  [0.10843373 0.72289157 0.1686747 ]\n",
      "Predictions p(y=1|m) =  [0.3 0.6 0.9]\n",
      "True outcome =  1\n",
      "Marginal prediction, p_marginal(y=1) =  0.5702290076335879\n",
      "Action that maximise the marginal model: 1\n",
      "Action that maximise the expected utility U according to the marginal model: 1\n",
      "Posterior: [0.10843373 0.72289157 0.1686747 ]\n",
      "\n",
      "\n"
     ]
    }
   ],
   "source": [
    "old_prior = prior\n",
    "\n",
    "for t in range(T):\n",
    "    # A) Calculate the marginal prediction\n",
    "    p_y_1_marginal = np.sum(predictions[t] * old_prior)\n",
    "\n",
    "    # B) Select the action that maximizes the marginal prediction\n",
    "    action_marginal = 1 if p_y_1_marginal > 0.5 else 0\n",
    "\n",
    "    # C) Select the action that maximizes the expected utility based on the marginal model\n",
    "    utility_model = np.array([[1, -10], [-1, 1]])  # Utility matrix\n",
    "    u_a_0 = np.sum(utility_model[0] * [1 - p_y_1_marginal, p_y_1_marginal])\n",
    "    u_a_1 = np.sum(utility_model[1] * [1 - p_y_1_marginal, p_y_1_marginal])\n",
    "    final_actions_utility = 0 if u_a_0 > u_a_1 else 1\n",
    "\n",
    "    # D) Update the prior using the posterior of the true outcome\n",
    "    posterior = get_posterior(old_prior, np.array([1 - predictions[t], predictions[t]]), true_y[t])\n",
    "    old_prior = posterior\n",
    "    \n",
    "    print(f\"-------iteration day {t}\")\n",
    "    print(\"Prior  p(m) = \", old_prior)\n",
    "    print(\"Predictions p(y=1|m) = \",predictions[t] )\n",
    "    print(\"True outcome = \",true_y[t] )\n",
    "    print(\"Marginal prediction, p_marginal(y=1) = \", p_y_1_marginal)\n",
    "    print(\"Action that maximise the marginal model:\", action_marginal)\n",
    "    print(\"Action that maximise the expected utility U according to the marginal model:\", final_actions_utility)\n",
    "    print(\"Posterior:\", posterior)\n",
    "    print(\"\\n\")"
   ]
  },
  {
   "cell_type": "markdown",
   "metadata": {},
   "source": [
    "**E) What is the best model according to the posterior distribution after process?**"
   ]
  },
  {
   "cell_type": "code",
   "execution_count": 95,
   "metadata": {},
   "outputs": [
    {
     "data": {
      "text/plain": [
       "1"
      ]
     },
     "execution_count": 95,
     "metadata": {},
     "output_type": "execute_result"
    }
   ],
   "source": [
    "best_model = np.argmax(posterior)\n",
    "best_model"
   ]
  },
  {
   "cell_type": "markdown",
   "metadata": {},
   "source": [
    "# Step 1.5 Decision Based on Maximum a posteriori (MAP)\n",
    "\n",
    "Another way to make decisions is to select the model that performs the best according to our posterior distribution.\n",
    "\n",
    "More specifically, in each step, we can choose the model that maximizes the posterior:\n",
    "      $$m^{\\star} = \\arg \\max_{m} p(m|Data) $$\n",
    "\n",
    "And then obtain the best action according to that model $p(m|Data)$ instead of the marginal model.\n",
    "1. Obtain the action with the maximum probability according to the best model $p(y|m^{\\star})$.\n",
    "2. The second option is to select the action that maximizes the expected utility based on the best model $p(y|m^{\\star})$.\n"
   ]
  },
  {
   "cell_type": "markdown",
   "metadata": {},
   "source": [
    "**Complete the following steps**:   \n",
    "A) Select the model $m^{\\star}$ with the maximum posterior (MAP estimator)   \n",
    "B) Calculate the action that with the maximum propability according to the model $p(y|m^{\\star})$  \n",
    "C) Calculate the action that with the maximum expected utility, according to the model $p(y|m^{\\star} )$  "
   ]
  },
  {
   "cell_type": "code",
   "execution_count": 96,
   "metadata": {},
   "outputs": [],
   "source": [
    "predictions = [0.3, 0.3, 0.6]"
   ]
  },
  {
   "cell_type": "code",
   "execution_count": 97,
   "metadata": {},
   "outputs": [],
   "source": [
    "#A)\n",
    "map_estimator = np.argmax(predictions)"
   ]
  },
  {
   "cell_type": "code",
   "execution_count": 98,
   "metadata": {},
   "outputs": [
    {
     "data": {
      "text/plain": [
       "1"
      ]
     },
     "execution_count": 98,
     "metadata": {},
     "output_type": "execute_result"
    }
   ],
   "source": [
    "# B)\n",
    "p_y_1 = predictions[map_estimator] # p(y=1|m)\n",
    "p_y_map = [1 - p_y_1, p_y_1] # p(y=1|m) * p(m|D)\n",
    "\n",
    "action_marginal = np.argmax(p_y_map) # Selecting the action with the highest probability\n",
    "action_marginal"
   ]
  },
  {
   "cell_type": "code",
   "execution_count": 99,
   "metadata": {},
   "outputs": [
    {
     "data": {
      "text/plain": [
       "1"
      ]
     },
     "execution_count": 99,
     "metadata": {},
     "output_type": "execute_result"
    }
   ],
   "source": [
    "# C)\n",
    "u_a_0 = np.sum(U[0] * p_y_map) # Expected utility for action 0 (no rain)\n",
    "u_a_1 = np.sum(U[1] * p_y_map) # Expected utility for action 1 (rain)\n",
    "\n",
    "final_actions_utility = 0 if u_a_0 > u_a_1 else 1 # Choosing the action with higher expected utility\n",
    "final_actions_utility"
   ]
  }
 ],
 "metadata": {
  "kernelspec": {
   "display_name": "Python 3 (ipykernel)",
   "language": "python",
   "name": "python3"
  },
  "language_info": {
   "codemirror_mode": {
    "name": "ipython",
    "version": 3
   },
   "file_extension": ".py",
   "mimetype": "text/x-python",
   "name": "python",
   "nbconvert_exporter": "python",
   "pygments_lexer": "ipython3",
   "version": "3.10.10"
  }
 },
 "nbformat": 4,
 "nbformat_minor": 1
}
