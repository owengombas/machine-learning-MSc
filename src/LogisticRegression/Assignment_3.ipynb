{
 "cells": [
  {
   "cell_type": "markdown",
   "metadata": {},
   "source": [
    "# Assignment 3\n",
    "\n",
    "In the third lab assignment, you are tasked with creating a machine learning pipeline using the [Adult dataset](https://archive.ics.uci.edu/dataset/2/adult).  \n",
    "The objective of this dataset is to classify whether a particular individual has an income of more than $50,000 per year based on some features.\n",
    "\n",
    "During the assignment, you are asked to create a complete machine learning pipeline for this dataset. Specifically, the assignment consists of two parts. In the first part of the assignment, you are asked to perform some exploratory data analysis along with some data preprocessing steps to transform your data into the right format. The second part of the assignment involves selecting the best model for your problem using a model selection method introduced in the second lab of the course.\n",
    "\n",
    "You can download the dataset from the website.   \n",
    "The folder, it contains:  \n",
    "1. The data that you are going to use to develop your model (or development set): `adult.data`\n",
    "2. The test set: `adult.test`\n",
    "3. A description file for the dataset: `adult.names`\n",
    "\n",
    "You have to complete the current notebook and submit it through the course website.\n",
    "\n",
    "## Assignment Steps:\n",
    "\n",
    "### A. Data Analysis and Preprocessing\n",
    "\n",
    "1. **Load the development data and provide some basic information about the dataset using the `adult.data` file:**\n",
    "   - Provide a short description of the dataset (a few sentences about the dataset and the features).\n",
    "   - How many examples (rows) are in the dataset?\n",
    "   - How many features do you have in your dataset?\n",
    "   - What are the types of the different features?\n",
    "   - Do you have any missing data in your dataset? Hint: check for different missing value identifiers.\n",
    "\n",
    "2. **Transform your data into the right format to be handled by your model:**\n",
    "    - Handle missing values, and explain your decision.\n",
    "    - Handle categorical features, and explain your decision.\n",
    "    - Do you need to scale your data to transform the different features into the same scale?\n",
    "    \n",
    "3. Load the test set and perform the same steps as before. Is the test set consistent with the training set?\n",
    "\n",
    "### B. Model Selection\n",
    "\n",
    "In the model selection phase, you need to choose the best model between k-nearest neighbors (KNN) and logistic regression classifiers for different model hyperparameters.\n",
    "\n",
    "1. Explain the different algorithms (provide a few sentences about each model).\n",
    "2. Define the different hyperparameters and their respective values that you want to explore for each algorithm. For the logistic regression, try only the fit_intercept hyperparameter while keeping fixed the penalty equal to None, as the rest will be explained later in the course.\n",
    "\n",
    "   - Example: `logistic_regression = LogisticRegression(penalty=None, fit_intercept=setting)`\n",
    "\n",
    "3. Choose a model selection method and explain your decision.\n",
    "4. Perform model selection and find the best model. Choose between \"train/val\" and cross validation method.\n",
    "5. Test your best algorithm on both test-set and training-set and explain the results.\n",
    "6. Compare your results with the benchmarks on the [website](https://archive.ics.uci.edu/dataset/2/adult).\n",
    "\n",
    "Remember to create different cells and use Markdown to write text in the notebook.\n",
    "\n",
    "##### Useful Material:\n",
    "1. [Model Selection and KNN - Lab 2](https://github.com/olethrosdc/machine-learning-MSc/blob/main/src/Generalisation/Lab_2_Generalization.ipynb) \n",
    "2. [Data Preprocessing and Logistic Regression - Lab 3](https://github.com/olethrosdc/machine-learning-MSc/blob/main/src/LogisticRegression/Lab_3_Preprocessing_Logistic_Regression.ipynb)\n",
    "3. Course Book (Chapters 1, 2, 4, 5)\n",
    "4. [Markdown Guide](https://www.edlitera.com/en/blog/posts/jupyter-markdown-tutorial)\n"
   ]
  },
  {
   "cell_type": "markdown",
   "metadata": {},
   "source": [
    "# **Solution**"
   ]
  },
  {
   "cell_type": "markdown",
   "metadata": {},
   "source": [
    "### **Step A.1** "
   ]
  },
  {
   "cell_type": "code",
   "execution_count": null,
   "metadata": {},
   "outputs": [],
   "source": [
    "import pandas as pd\n",
    "\n",
    "features =[ \"age\",\n",
    "            \"workclass\",\n",
    "            \"final_weight\",  # originally it was called fnlwgt\n",
    "            \"education\",\n",
    "            \"education_num\",\n",
    "            \"marital_status\",\n",
    "            \"occupation\",\n",
    "            \"relationship\",\n",
    "            \"race\",\n",
    "            \"sex\",\n",
    "            \"capital_gain\",\n",
    "            \"capital_loss\",\n",
    "            \"hours_per_week\",\n",
    "            \"native_country\"]\n",
    "\n",
    "target = [\"income_class\"]\n",
    "\n",
    "TRAIN_DATA_PATH = ''\n",
    "train_data = pd.read_csv(\n",
    "                         TRAIN_DATA_PATH,\n",
    "                         names= features + target ,\n",
    "                         skipinitialspace=True,  # Skip spaces after delimiter \",\"\n",
    "                        ) "
   ]
  },
  {
   "cell_type": "code",
   "execution_count": null,
   "metadata": {},
   "outputs": [],
   "source": []
  }
 ],
 "metadata": {
  "kernelspec": {
   "display_name": "Python 3 (ipykernel)",
   "language": "python",
   "name": "python3"
  },
  "language_info": {
   "codemirror_mode": {
    "name": "ipython",
    "version": 3
   },
   "file_extension": ".py",
   "mimetype": "text/x-python",
   "name": "python",
   "nbconvert_exporter": "python",
   "pygments_lexer": "ipython3",
   "version": "3.9.12"
  }
 },
 "nbformat": 4,
 "nbformat_minor": 1
}
