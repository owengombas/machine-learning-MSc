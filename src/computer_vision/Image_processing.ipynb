{
 "cells": [
  {
   "cell_type": "markdown",
   "metadata": {
    "collapsed": true
   },
   "source": [
    "# Computer vision "
   ]
  },
  {
   "cell_type": "code",
   "execution_count": 1,
   "metadata": {},
   "outputs": [],
   "source": [
    "import torch\n",
    "import matplotlib.pyplot as plt\n",
    "import pandas as pd\n",
    "import numpy as np"
   ]
  },
  {
   "cell_type": "code",
   "execution_count": 2,
   "metadata": {},
   "outputs": [
    {
     "name": "stderr",
     "output_type": "stream",
     "text": [
      "/Users/owen/miniconda/lib/python3.10/site-packages/sklearn/datasets/_openml.py:968: FutureWarning: The default value of `parser` will change from `'liac-arff'` to `'auto'` in 1.4. You can set `parser='auto'` to silence this warning. Therefore, an `ImportError` will be raised from 1.4 if the dataset is dense and pandas is not installed. Note that the pandas parser may return different data types. See the Notes Section in fetch_openml's API doc for details.\n",
      "  warn(\n"
     ]
    }
   ],
   "source": [
    "from sklearn.datasets import fetch_openml\n",
    "h , w = 28, 28\n",
    "mnist = fetch_openml('mnist_784', version=1)\n",
    "X, y = mnist['data'], mnist['target']"
   ]
  },
  {
   "cell_type": "code",
   "execution_count": 3,
   "metadata": {},
   "outputs": [
    {
     "data": {
      "text/plain": [
       "'1.2.2'"
      ]
     },
     "execution_count": 3,
     "metadata": {},
     "output_type": "execute_result"
    }
   ],
   "source": [
    "import sklearn\n",
    "sklearn.__version__"
   ]
  },
  {
   "cell_type": "code",
   "execution_count": 4,
   "metadata": {},
   "outputs": [
    {
     "data": {
      "text/plain": [
       "(70000, 784)"
      ]
     },
     "execution_count": 4,
     "metadata": {},
     "output_type": "execute_result"
    }
   ],
   "source": [
    "X.shape"
   ]
  },
  {
   "cell_type": "markdown",
   "metadata": {},
   "source": [
    "# Plot image\n",
    "\n",
    "Get a random image from the dataset and plot it using matplotlib.\n",
    "Remember that after selecting an image you have to transform it into a matrix if (28,28) pixel"
   ]
  },
  {
   "cell_type": "code",
   "execution_count": 5,
   "metadata": {},
   "outputs": [],
   "source": [
    "random_image = 7993\n",
    "image_data = X.iloc[random_image].values # this is a vector we want matrix\n",
    "y_example = y.iloc[random_image]"
   ]
  },
  {
   "cell_type": "code",
   "execution_count": 6,
   "metadata": {},
   "outputs": [
    {
     "data": {
      "text/plain": [
       "(28, 28)"
      ]
     },
     "execution_count": 6,
     "metadata": {},
     "output_type": "execute_result"
    }
   ],
   "source": [
    "image_data.reshape((28,28)).shape"
   ]
  },
  {
   "cell_type": "code",
   "execution_count": 7,
   "metadata": {},
   "outputs": [],
   "source": [
    "image = image_data.reshape((28,28)) #"
   ]
  },
  {
   "cell_type": "code",
   "execution_count": 8,
   "metadata": {},
   "outputs": [
    {
     "data": {
      "image/png": "[encoded data removed]",
      "text/plain": [
       "<Figure size 640x480 with 1 Axes>"
      ]
     },
     "metadata": {},
     "output_type": "display_data"
    }
   ],
   "source": [
    "plt.figure()\n",
    "plt.imshow(image, cmap = \"Greys\")\n",
    "plt.title(f\"Example Digit, label = {y_example}\")\n",
    "plt.xlabel(\"Width\")\n",
    "plt.ylabel(\"Height\")\n",
    "plt.show()\n",
    "plt.close()"
   ]
  },
  {
   "cell_type": "markdown",
   "metadata": {},
   "source": [
    "# Normalise data \n",
    "\n",
    "Normalize your data in order to scale the values from [0,1]\n",
    "In order to do so think of the maximum and the minimum value of each pixel."
   ]
  },
  {
   "cell_type": "code",
   "execution_count": 9,
   "metadata": {},
   "outputs": [],
   "source": [
    "X_norm = X/255 # convert image to value [0, 1]\n",
    "y = y.astype(\"int\")"
   ]
  },
  {
   "cell_type": "code",
   "execution_count": 10,
   "metadata": {},
   "outputs": [
    {
     "data": {
      "text/plain": [
       "1.0"
      ]
     },
     "execution_count": 10,
     "metadata": {},
     "output_type": "execute_result"
    }
   ],
   "source": [
    "X_norm.iloc[1234].max()"
   ]
  },
  {
   "cell_type": "markdown",
   "metadata": {},
   "source": [
    "# Split into train val test\n",
    "\n",
    "Split the dataset into training validation and test set using sklearn."
   ]
  },
  {
   "cell_type": "code",
   "execution_count": 11,
   "metadata": {},
   "outputs": [],
   "source": [
    "from sklearn.model_selection import train_test_split\n",
    "# create train test set\n",
    "X_dev, X_test, y_dev, y_test = train_test_split(X_norm,\n",
    "                                                y,\n",
    "                                                test_size=0.2,\n",
    "                                                shuffle=True,\n",
    "                                                random_state=42)"
   ]
  },
  {
   "cell_type": "code",
   "execution_count": 12,
   "metadata": {},
   "outputs": [],
   "source": [
    "# create train validation set\n",
    "X_train, X_val, y_train, y_val = train_test_split(X_dev,\n",
    "                                                  y_dev,\n",
    "                                                  test_size=0.1,\n",
    "                                                  shuffle=True,\n",
    "                                                  random_state=42)"
   ]
  },
  {
   "cell_type": "code",
   "execution_count": 13,
   "metadata": {},
   "outputs": [
    {
     "name": "stdout",
     "output_type": "stream",
     "text": [
      "train set size:  (50400, 784)\n",
      "val set size:  (5600, 784)\n",
      "test set size:  (14000, 784)\n"
     ]
    }
   ],
   "source": [
    "print(\"train set size: \", X_train.shape)\n",
    "print(\"val set size: \", X_val.shape)\n",
    "print(\"test set size: \", X_test.shape)"
   ]
  },
  {
   "cell_type": "markdown",
   "metadata": {},
   "source": [
    "# Convert image to pytorch dataset\n",
    "\n",
    "Fill the following function that get a pytorch data loader from a numpy arrays.\n",
    "You can check our previous pytorch lab to write the function."
   ]
  },
  {
   "cell_type": "code",
   "execution_count": 16,
   "metadata": {},
   "outputs": [],
   "source": [
    "import torch\n",
    "\n",
    "def get_dataloader(X, y, batch_size, shuffle ):\n",
    "    # fill your code\n",
    "    # covert data into tensors\n",
    "    train_x_tensor = torch.tensor(X, dtype=torch.float)\n",
    "    train_y_tensor = torch.tensor(y, dtype=torch.int)\n",
    "\n",
    "    # use the dataset class wrapper for tensors\n",
    "    train_tensor_dataset = torch.utils.data.TensorDataset(train_x_tensor,\n",
    "                                                          train_y_tensor)# there are more coplex dataset\n",
    "                                                                                     # i.e images or text data\n",
    "\n",
    "    # pass the dataset class into Dataloader to batch and shuffle your data\n",
    "    train_dataloader = torch.utils.data.DataLoader(train_tensor_dataset,\n",
    "                                                   batch_size=64,\n",
    "                                                   shuffle=True)\n",
    "    \n",
    "    return train_dataloader"
   ]
  },
  {
   "cell_type": "markdown",
   "metadata": {},
   "source": [
    "We now get the loader for the different data sets."
   ]
  },
  {
   "cell_type": "code",
   "execution_count": 17,
   "metadata": {},
   "outputs": [],
   "source": [
    "train_dataloader = get_dataloader(X_train.values, y_train.values, batch_size = 16, shuffle=True)\n",
    "val_dataloader = get_dataloader(X_val.values, y_val.values, batch_size = y_val.shape[0], shuffle=False)\n",
    "test_dataloader = get_dataloader(X_test.values, y_test.values, batch_size = y_test.shape[0], shuffle=True)"
   ]
  },
  {
   "cell_type": "markdown",
   "metadata": {},
   "source": [
    "# Softmax\n",
    "\n",
    "Implement the softmax function.\n",
    "The function in applied to a array $z$ and return a normalised array with values between $[0,1]$\n",
    "\n",
    "The values of each element is calculated according to the following formula:\n",
    "\n",
    "$$ \\sigma(z_i) = \\frac{e^{z_{i}}}{\\sum_{j=1}^K e^{z_{j}}} \\ \\ \\ for\\ i=1,2,\\dots,K $$\n",
    "\n",
    "The advantage of softmax is that is we sum the result of the function always sum to one.\n",
    "So is used in machine learning problem in order to convert a vector of arbitrary values into a vector of propabilities.\n",
    "\n"
   ]
  },
  {
   "cell_type": "code",
   "execution_count": 18,
   "metadata": {},
   "outputs": [],
   "source": [
    "def softmax(x):\n",
    "    \"\"\"Compute softmax values for each sets of scores in x.\"\"\"\n",
    "    # fill your code\n",
    "    return np.exp(x) / np.sum(np.exp(x), axis=0)"
   ]
  },
  {
   "cell_type": "code",
   "execution_count": 19,
   "metadata": {},
   "outputs": [
    {
     "data": {
      "text/plain": [
       "array([0.33333333, 0.33333333, 0.33333333])"
      ]
     },
     "execution_count": 19,
     "metadata": {},
     "output_type": "execute_result"
    }
   ],
   "source": [
    "array1 = np.array([1,1,1])\n",
    "softmax(array1)"
   ]
  },
  {
   "cell_type": "code",
   "execution_count": 20,
   "metadata": {},
   "outputs": [
    {
     "data": {
      "text/plain": [
       "array([0.21194156, 0.21194156, 0.57611688])"
      ]
     },
     "execution_count": 20,
     "metadata": {},
     "output_type": "execute_result"
    }
   ],
   "source": [
    "array2 = np.array([0,0,1])\n",
    "softmax(array2)"
   ]
  },
  {
   "cell_type": "code",
   "execution_count": 22,
   "metadata": {},
   "outputs": [
    {
     "data": {
      "text/plain": [
       "array([8.92508923e-04, 2.42609079e-03, 1.79265209e-02, 9.78754879e-01])"
      ]
     },
     "execution_count": 22,
     "metadata": {},
     "output_type": "execute_result"
    }
   ],
   "source": [
    "array2 = np.array([1, 2, 4, 8])\n",
    "softmax(array2)"
   ]
  },
  {
   "cell_type": "markdown",
   "metadata": {},
   "source": [
    "# Simple Model\n",
    "\n",
    "Define a simple neural network, as our the example in introduction to pytorch.\n",
    "Use 100 units for the first layer and 50 for the second layer.  \n",
    "The output units must be the same as the number of classes (10).  \n",
    "We also have to use softmax to transform the output in range $[0, 1]$ in order to represent propabilities as explained before."
   ]
  },
  {
   "cell_type": "code",
   "execution_count": 23,
   "metadata": {},
   "outputs": [],
   "source": [
    "class NeuralNetwork(torch.nn.Module):\n",
    "    \"\"\"\n",
    "    Simple two layer neural network for regression\n",
    "    \"\"\"\n",
    "    def __init__(self, num_input_features):\n",
    "        super().__init__()\n",
    "        \n",
    "        # layer 1\n",
    "\n",
    "        \n",
    "        # layer  2\n",
    "\n",
    "        \n",
    "        # layer output layer\n",
    "\n",
    "\n",
    "    def forward(self, x):\n",
    "\n",
    "        return output"
   ]
  },
  {
   "cell_type": "code",
   "execution_count": 24,
   "metadata": {},
   "outputs": [],
   "source": [
    "simple_ff_model = NeuralNetwork(num_input_features = X_train.shape[1])"
   ]
  },
  {
   "cell_type": "markdown",
   "metadata": {},
   "source": [
    "# Training"
   ]
  },
  {
   "cell_type": "code",
   "execution_count": 25,
   "metadata": {},
   "outputs": [],
   "source": [
    "# -------------------- Training  Step----------------------------\n",
    "def training_step(model, input_data, optimizer, loss_fn):\n",
    "    # reset gradients of the optimizer\n",
    "    optimizer.zero_grad()\n",
    "    \n",
    "    # unfold data\n",
    "    x_batch, y_batch = input_data\n",
    "    \n",
    "    # get predictions\n",
    "    y_pred_propa = model(x_batch)\n",
    "    \n",
    "    # calculate loss\n",
    "    loss = loss_fn(y_pred_propa, y_batch)\n",
    "\n",
    "    # compute gradients \n",
    "    loss.backward()\n",
    "    \n",
    "    # optimise network\n",
    "    optimizer.step()\n",
    "    \n",
    "    # compute metrics for monitoring\n",
    "    with torch.no_grad(): \n",
    "        y_pred = torch.argmax(y_pred_propa,axis=1)\n",
    "        \n",
    "        train_acc = torch.sum(y_pred == y_batch) / y_batch.shape[0]\n",
    "\n",
    "    return loss.data.numpy(), train_acc.data.numpy()"
   ]
  },
  {
   "cell_type": "code",
   "execution_count": 26,
   "metadata": {},
   "outputs": [],
   "source": [
    "def evaluation_step(model, input_data, loss_fn):\n",
    "    # when we use torch.no_grad pytorch didnt store information\n",
    "    # that is required to calculate gradients so is fasterr \n",
    "    with torch.no_grad(): \n",
    "        x_batch, y_batch = input_data\n",
    "        y_pred_proba = model(x_batch)\n",
    "        loss = loss_fn(y_pred_proba, y_batch)\n",
    "\n",
    "        # compute metrics\n",
    "        y_pred = torch.argmax(y_pred_proba,axis=1)\n",
    "        acc = torch.sum(y_pred == y_batch) / y_batch.shape[0]\n",
    "    return loss.data.numpy(), acc.data.numpy()"
   ]
  },
  {
   "cell_type": "code",
   "execution_count": 27,
   "metadata": {},
   "outputs": [],
   "source": [
    "import time\n",
    "\n",
    "\n",
    "# -------------------- Train  Loop----------------------------\n",
    "def train_loop(train_dataloader, val_dataloader, patient, epochs, model, optimizer, loss_fn):\n",
    "    best_loss = np.inf\n",
    "    consecutive_epoch = 0\n",
    "    best_epoch = 0\n",
    "\n",
    "    train_history = []\n",
    "    val_history = []\n",
    "    for epoch in range(epochs): # iterate over epoch    \n",
    "\n",
    "        # -------------------- Training on each epoch ----------------------------\n",
    "        total_step = len(train_dataloader)\n",
    "        accumulated_loss = 0 # monitor loss during training\n",
    "        accumulated_accuracy = 0 # monitor  accuracy during training\n",
    "        accuracy_list = []\n",
    "        start = time.time()\n",
    "        for step in range(total_step): # iterate over batch\n",
    "            batch_data = next(iter(train_dataloader)) # get a batch\n",
    "            loss, accuracy = training_step(model,batch_data,optimizer,loss_fn) # train model using a single batch\n",
    "            accuracy_list += [accuracy]\n",
    "            accumulated_loss = (step * accumulated_loss + loss)/(step+1)\n",
    "            accumulated_accuracy =  (step * accumulated_accuracy + accuracy)/(step+1)\n",
    "        end = time.time()\n",
    "        total_time = end - start\n",
    "        train_history += [{\"loss\":accumulated_loss, \"accuracy\":accumulated_accuracy, \"epoch\": epoch, \"set\":\"train\"}]\n",
    "\n",
    "        # -------------------- Monitor Error Validation set ----------------------------\n",
    "        val_data = next(iter(val_dataloader))\n",
    "        val_loss, val_accuracy = evaluation_step(model, val_data, loss_fn)\n",
    "        val_history += [{\"loss\":val_loss, \"accuracy\":val_accuracy, \"epoch\": epoch, \"set\":\"val\"}]\n",
    "        if epoch % 1 == 0:\n",
    "            print(f\"Epoch {epoch}/{epochs}:({total_time:.3f} sec)  loss:{accumulated_loss:.3f}, accuracy-:{accumulated_accuracy:.3f}, val_loss:{val_loss:.3f}, val_accuracy->{val_accuracy:.3f}\")\n",
    "\n",
    "        # -------------------- Early Stoping ----------------------------\n",
    "        if val_loss > best_loss:\n",
    "            consecutive_epoch += 1\n",
    "        else:\n",
    "            best_loss = val_loss # we have an improvement\n",
    "            consecutive_epoch = 0 # reset counter\n",
    "            best_epoch = epoch\n",
    "            best_weights = model.state_dict()\n",
    "\n",
    "        if consecutive_epoch > patient:\n",
    "            break\n",
    "    val_history_df = pd.DataFrame(val_history)\n",
    "    train_history_df = pd.DataFrame(train_history)\n",
    "    return model, val_history_df, train_history_df, best_loss, best_epoch, best_weights"
   ]
  },
  {
   "cell_type": "code",
   "execution_count": 28,
   "metadata": {},
   "outputs": [],
   "source": [
    "import pandas as pd"
   ]
  },
  {
   "cell_type": "code",
   "execution_count": 29,
   "metadata": {},
   "outputs": [
    {
     "ename": "ValueError",
     "evalue": "optimizer got an empty parameter list",
     "output_type": "error",
     "traceback": [
      "\u001b[0;31m---------------------------------------------------------------------------\u001b[0m",
      "\u001b[0;31mValueError\u001b[0m                                Traceback (most recent call last)",
      "\u001b[1;32m/Users/owen/local/unibe/ml/machine-learning-MSc/src/computer_vision/Image_processing.ipynb Cell 35\u001b[0m line \u001b[0;36m3\n\u001b[1;32m      <a href='vscode-notebook-cell:/Users/owen/local/unibe/ml/machine-learning-MSc/src/computer_vision/Image_processing.ipynb#X46sZmlsZQ%3D%3D?line=0'>1</a>\u001b[0m lr \u001b[39m=\u001b[39m \u001b[39m0.001\u001b[39m\n\u001b[0;32m----> <a href='vscode-notebook-cell:/Users/owen/local/unibe/ml/machine-learning-MSc/src/computer_vision/Image_processing.ipynb#X46sZmlsZQ%3D%3D?line=2'>3</a>\u001b[0m optimizer \u001b[39m=\u001b[39m torch\u001b[39m.\u001b[39;49moptim\u001b[39m.\u001b[39;49mAdam(simple_ff_model\u001b[39m.\u001b[39;49mparameters(), lr\u001b[39m=\u001b[39;49mlr)\n\u001b[1;32m      <a href='vscode-notebook-cell:/Users/owen/local/unibe/ml/machine-learning-MSc/src/computer_vision/Image_processing.ipynb#X46sZmlsZQ%3D%3D?line=3'>4</a>\u001b[0m loss_fn \u001b[39m=\u001b[39m torch\u001b[39m.\u001b[39mnn\u001b[39m.\u001b[39mCrossEntropyLoss() \u001b[39m# cross entropy\u001b[39;00m\n\u001b[1;32m      <a href='vscode-notebook-cell:/Users/owen/local/unibe/ml/machine-learning-MSc/src/computer_vision/Image_processing.ipynb#X46sZmlsZQ%3D%3D?line=5'>6</a>\u001b[0m out \u001b[39m=\u001b[39m train_loop(train_dataloader \u001b[39m=\u001b[39m train_dataloader,\n\u001b[1;32m      <a href='vscode-notebook-cell:/Users/owen/local/unibe/ml/machine-learning-MSc/src/computer_vision/Image_processing.ipynb#X46sZmlsZQ%3D%3D?line=6'>7</a>\u001b[0m                  val_dataloader \u001b[39m=\u001b[39m val_dataloader,\n\u001b[1;32m      <a href='vscode-notebook-cell:/Users/owen/local/unibe/ml/machine-learning-MSc/src/computer_vision/Image_processing.ipynb#X46sZmlsZQ%3D%3D?line=7'>8</a>\u001b[0m                  patient \u001b[39m=\u001b[39m \u001b[39m3\u001b[39m, \n\u001b[0;32m   (...)\u001b[0m\n\u001b[1;32m     <a href='vscode-notebook-cell:/Users/owen/local/unibe/ml/machine-learning-MSc/src/computer_vision/Image_processing.ipynb#X46sZmlsZQ%3D%3D?line=10'>11</a>\u001b[0m                  optimizer\u001b[39m=\u001b[39m optimizer,\n\u001b[1;32m     <a href='vscode-notebook-cell:/Users/owen/local/unibe/ml/machine-learning-MSc/src/computer_vision/Image_processing.ipynb#X46sZmlsZQ%3D%3D?line=11'>12</a>\u001b[0m                  loss_fn\u001b[39m=\u001b[39m loss_fn)\n",
      "File \u001b[0;32m~/miniconda/lib/python3.10/site-packages/torch/optim/adam.py:45\u001b[0m, in \u001b[0;36mAdam.__init__\u001b[0;34m(self, params, lr, betas, eps, weight_decay, amsgrad, foreach, maximize, capturable, differentiable, fused)\u001b[0m\n\u001b[1;32m     39\u001b[0m     \u001b[39mraise\u001b[39;00m \u001b[39mValueError\u001b[39;00m(\u001b[39mf\u001b[39m\u001b[39m\"\u001b[39m\u001b[39mInvalid weight_decay value: \u001b[39m\u001b[39m{\u001b[39;00mweight_decay\u001b[39m}\u001b[39;00m\u001b[39m\"\u001b[39m)\n\u001b[1;32m     41\u001b[0m defaults \u001b[39m=\u001b[39m \u001b[39mdict\u001b[39m(lr\u001b[39m=\u001b[39mlr, betas\u001b[39m=\u001b[39mbetas, eps\u001b[39m=\u001b[39meps,\n\u001b[1;32m     42\u001b[0m                 weight_decay\u001b[39m=\u001b[39mweight_decay, amsgrad\u001b[39m=\u001b[39mamsgrad,\n\u001b[1;32m     43\u001b[0m                 maximize\u001b[39m=\u001b[39mmaximize, foreach\u001b[39m=\u001b[39mforeach, capturable\u001b[39m=\u001b[39mcapturable,\n\u001b[1;32m     44\u001b[0m                 differentiable\u001b[39m=\u001b[39mdifferentiable, fused\u001b[39m=\u001b[39mfused)\n\u001b[0;32m---> 45\u001b[0m \u001b[39msuper\u001b[39;49m()\u001b[39m.\u001b[39;49m\u001b[39m__init__\u001b[39;49m(params, defaults)\n\u001b[1;32m     47\u001b[0m \u001b[39mif\u001b[39;00m fused:\n\u001b[1;32m     48\u001b[0m     \u001b[39mif\u001b[39;00m differentiable:\n",
      "File \u001b[0;32m~/miniconda/lib/python3.10/site-packages/torch/optim/optimizer.py:261\u001b[0m, in \u001b[0;36mOptimizer.__init__\u001b[0;34m(self, params, defaults)\u001b[0m\n\u001b[1;32m    259\u001b[0m param_groups \u001b[39m=\u001b[39m \u001b[39mlist\u001b[39m(params)\n\u001b[1;32m    260\u001b[0m \u001b[39mif\u001b[39;00m \u001b[39mlen\u001b[39m(param_groups) \u001b[39m==\u001b[39m \u001b[39m0\u001b[39m:\n\u001b[0;32m--> 261\u001b[0m     \u001b[39mraise\u001b[39;00m \u001b[39mValueError\u001b[39;00m(\u001b[39m\"\u001b[39m\u001b[39moptimizer got an empty parameter list\u001b[39m\u001b[39m\"\u001b[39m)\n\u001b[1;32m    262\u001b[0m \u001b[39mif\u001b[39;00m \u001b[39mnot\u001b[39;00m \u001b[39misinstance\u001b[39m(param_groups[\u001b[39m0\u001b[39m], \u001b[39mdict\u001b[39m):\n\u001b[1;32m    263\u001b[0m     param_groups \u001b[39m=\u001b[39m [{\u001b[39m'\u001b[39m\u001b[39mparams\u001b[39m\u001b[39m'\u001b[39m: param_groups}]\n",
      "\u001b[0;31mValueError\u001b[0m: optimizer got an empty parameter list"
     ]
    }
   ],
   "source": [
    "lr = 0.001\n",
    "\n",
    "optimizer = torch.optim.Adam(simple_ff_model.parameters(), lr=lr)\n",
    "loss_fn = torch.nn.CrossEntropyLoss() # cross entropy\n",
    "\n",
    "out = train_loop(train_dataloader = train_dataloader,\n",
    "                 val_dataloader = val_dataloader,\n",
    "                 patient = 3, \n",
    "                 epochs = 10,\n",
    "                 model = simple_ff_model,\n",
    "                 optimizer= optimizer,\n",
    "                 loss_fn= loss_fn)\n",
    "\n",
    "model, val_history_es_5, train_history_es_5, best_loss, best_epoch, best_weights = out"
   ]
  },
  {
   "cell_type": "code",
   "execution_count": null,
   "metadata": {},
   "outputs": [
    {
     "name": "stderr",
     "output_type": "stream",
     "text": [
      "/Users/andreasathanasopoulos/Phd/projects/bayesian_fairness/envs/bayesian-fairness/lib/python3.9/site-packages/torch/nn/modules/module.py:1518: UserWarning: Implicit dimension choice for softmax has been deprecated. Change the call to include dim=X as an argument.\n",
      "  return self._call_impl(*args, **kwargs)\n"
     ]
    }
   ],
   "source": [
    "test_data = next(iter(test_dataloader))\n",
    "loss, acc = evaluation_step(simple_ff_model, test_data, loss_fn)"
   ]
  },
  {
   "cell_type": "code",
   "execution_count": null,
   "metadata": {},
   "outputs": [
    {
     "data": {
      "text/plain": [
       "(array(1.5008513, dtype=float32), array(0.96021426, dtype=float32))"
      ]
     },
     "execution_count": 22,
     "metadata": {},
     "output_type": "execute_result"
    }
   ],
   "source": [
    "loss, acc"
   ]
  },
  {
   "cell_type": "markdown",
   "metadata": {},
   "source": [
    "# cnn model\n",
    "\n",
    "Define a cnn architecture, with two cnn layers using 16 and 32 kernels respectively.\n",
    "Each kernel on both layers in has a size 5x5.\n",
    "After each layer we apply Relu activation function and max-pooling with kernel size 2 and stride 2.\n",
    "\n",
    "At the end you add a simple linear layer on the flatten representation of the final cnn architecture.\n",
    "\n",
    "Check the supplementary slide to calculate the correct input shape for you layers, otherwise you will get an error. (final slides)\n",
    "\n",
    "Fill the code bellow."
   ]
  },
  {
   "cell_type": "code",
   "execution_count": null,
   "metadata": {},
   "outputs": [],
   "source": [
    "class CnnNeuralNetwork(torch.nn.Module):\n",
    "    \"\"\"\n",
    "    Simple two layer neural network for regression\n",
    "    \"\"\"\n",
    "    def __init__(self, num_of_channels):\n",
    "        super().__init__()\n",
    "        \n",
    "        # layer 1\n",
    "        self.cnn_layer_1 = torch.nn.Conv2d(in_channels=,    # input channels           \n",
    "                                           out_channels=,   # number of kernels\n",
    "                                           kernel_size=  # kenrel size \n",
    "                                          )\n",
    "        self.activation_1 = # relu\n",
    "        self.polling_1 = torch.nn.MaxPool2d(kernel_size=) # maxpolling\n",
    "        \n",
    "        # layer  2\n",
    "        self.cnn_layer_2 = torch.nn.Conv2d(\n",
    "                                          in_channels=,  # input channels           \n",
    "                                          out_channels=, # number of kernels        \n",
    "                                          kernel_size= # kenrel size \n",
    "                                          )\n",
    "        self.activation_2 =  # relu\n",
    "        self.polling_2 = torch.nn.MaxPool2d() # maxpolling\n",
    "        \n",
    "        # layer output layer\n",
    "        self.out_layer = torch.nn.Linear(in_features=, # inputs that depends on the output of the cnn\n",
    "                                         out_features=)\n",
    "        self.out_activation= torch.nn.Softmax()\n",
    "\n",
    "    def forward(self, x):\n",
    "        # construct the forward pass\n",
    "        x_1 = self.polling_1(self.activation_1( self.cnn_layer_1( x ) ))\n",
    "        x_2 = self.polling_2(self.activation_2( self.cnn_layer_2( x_1 ) ))\n",
    "        \n",
    "        flaten = torch.flatten(x_2,start_dim=1)\n",
    "        \n",
    "        output = self.out_activation(self.out_layer(flaten))\n",
    "        return output "
   ]
  },
  {
   "cell_type": "code",
   "execution_count": null,
   "metadata": {},
   "outputs": [],
   "source": [
    "cnn_model = CnnNeuralNetwork(num_of_channels = 1)"
   ]
  },
  {
   "cell_type": "code",
   "execution_count": null,
   "metadata": {},
   "outputs": [
    {
     "ename": "NameError",
     "evalue": "name 'cnn_model' is not defined",
     "output_type": "error",
     "traceback": [
      "\u001b[0;31m---------------------------------------------------------------------------\u001b[0m",
      "\u001b[0;31mNameError\u001b[0m                                 Traceback (most recent call last)",
      "Cell \u001b[0;32mIn[4], line 1\u001b[0m\n\u001b[0;32m----> 1\u001b[0m \u001b[43mcnn_model\u001b[49m\n",
      "\u001b[0;31mNameError\u001b[0m: name 'cnn_model' is not defined"
     ]
    }
   ],
   "source": [
    "cnn_model"
   ]
  },
  {
   "cell_type": "markdown",
   "metadata": {},
   "source": [
    "# Create data loader for the cnn model\n",
    "\n",
    "The cnn model takes as input a batch of images of (28,28) shape.\n",
    "In pytorch use the first dimension of the input as the channel information, so it receives input batches of shape: (batch_size, Channels, H, W)\n",
    "Call the get_dataloader with the right arguments in order to produce the input in the correct format"
   ]
  },
  {
   "cell_type": "code",
   "execution_count": null,
   "metadata": {},
   "outputs": [],
   "source": [
    "train_dataloader = get_dataloader(# add corect argument,\n",
    "                                  y_train.values,\n",
    "                                  batch_size = 16,\n",
    "                                  shuffle=True)\n",
    "\n",
    "val_dataloader = get_dataloader(# add corect argument,\n",
    "                                y_val.values,\n",
    "                                batch_size = y_val.shape[0],\n",
    "                                shuffle=False)\n",
    "\n",
    "test_dataloader = get_dataloader(# add corect argument,\n",
    "                                 y_test.values,\n",
    "                                 batch_size = y_test.shape[0],\n",
    "                                 shuffle=True)"
   ]
  },
  {
   "cell_type": "code",
   "execution_count": null,
   "metadata": {},
   "outputs": [
    {
     "name": "stdout",
     "output_type": "stream",
     "text": [
      "Epoch 0/15:(13.262 sec)  loss:1.592, accuracy-:0.872, val_loss:1.492, val_accuracy->0.970\n",
      "Epoch 1/15:(13.120 sec)  loss:1.485, accuracy-:0.977, val_loss:1.488, val_accuracy->0.975\n",
      "Epoch 2/15:(13.136 sec)  loss:1.480, accuracy-:0.982, val_loss:1.492, val_accuracy->0.971\n",
      "Epoch 3/15:(12.994 sec)  loss:1.477, accuracy-:0.985, val_loss:1.481, val_accuracy->0.980\n",
      "Epoch 4/15:(12.980 sec)  loss:1.475, accuracy-:0.987, val_loss:1.479, val_accuracy->0.982\n",
      "Epoch 5/15:(13.429 sec)  loss:1.474, accuracy-:0.987, val_loss:1.478, val_accuracy->0.983\n",
      "Epoch 6/15:(13.001 sec)  loss:1.472, accuracy-:0.989, val_loss:1.480, val_accuracy->0.981\n",
      "Epoch 7/15:(13.318 sec)  loss:1.471, accuracy-:0.990, val_loss:1.478, val_accuracy->0.983\n",
      "Epoch 8/15:(13.117 sec)  loss:1.470, accuracy-:0.991, val_loss:1.474, val_accuracy->0.988\n",
      "Epoch 9/15:(12.985 sec)  loss:1.470, accuracy-:0.991, val_loss:1.479, val_accuracy->0.982\n",
      "Epoch 10/15:(13.033 sec)  loss:1.470, accuracy-:0.991, val_loss:1.475, val_accuracy->0.986\n",
      "Epoch 11/15:(12.998 sec)  loss:1.470, accuracy-:0.991, val_loss:1.472, val_accuracy->0.989\n",
      "Epoch 12/15:(12.981 sec)  loss:1.470, accuracy-:0.992, val_loss:1.475, val_accuracy->0.987\n",
      "Epoch 13/15:(13.086 sec)  loss:1.469, accuracy-:0.992, val_loss:1.474, val_accuracy->0.987\n",
      "Epoch 14/15:(13.007 sec)  loss:1.469, accuracy-:0.993, val_loss:1.475, val_accuracy->0.986\n"
     ]
    }
   ],
   "source": [
    "lr = 0.001\n",
    "\n",
    "optimizer = torch.optim.Adam(cnn_model.parameters(), lr=lr)\n",
    "loss_fn = torch.nn.CrossEntropyLoss() # binary cross entropy\n",
    "\n",
    "out = train_loop(train_dataloader = train_dataloader,\n",
    "                 val_dataloader = val_dataloader,\n",
    "                 patient = 3, \n",
    "                 epochs = 15,\n",
    "                 model = cnn_model,\n",
    "                 optimizer= optimizer,\n",
    "                 loss_fn= loss_fn)\n",
    "\n",
    "model, val_history_es_5, train_history_es_5, best_loss, best_epoch, best_weights = out"
   ]
  },
  {
   "cell_type": "code",
   "execution_count": null,
   "metadata": {},
   "outputs": [],
   "source": [
    "test_data = next(iter(test_dataloader))\n",
    "loss, acc = evaluation_step(cnn_model, test_data, loss_fn)"
   ]
  },
  {
   "cell_type": "code",
   "execution_count": null,
   "metadata": {},
   "outputs": [
    {
     "ename": "NameError",
     "evalue": "name 'loss' is not defined",
     "output_type": "error",
     "traceback": [
      "\u001b[0;31m---------------------------------------------------------------------------\u001b[0m",
      "\u001b[0;31mNameError\u001b[0m                                 Traceback (most recent call last)",
      "Cell \u001b[0;32mIn[1], line 1\u001b[0m\n\u001b[0;32m----> 1\u001b[0m \u001b[43mloss\u001b[49m, acc\n",
      "\u001b[0;31mNameError\u001b[0m: name 'loss' is not defined"
     ]
    }
   ],
   "source": [
    "loss, acc"
   ]
  },
  {
   "cell_type": "code",
   "execution_count": null,
   "metadata": {},
   "outputs": [],
   "source": []
  }
 ],
 "metadata": {
  "kernelspec": {
   "display_name": "Python 3 (ipykernel)",
   "language": "python",
   "name": "python3"
  },
  "language_info": {
   "codemirror_mode": {
    "name": "ipython",
    "version": 3
   },
   "file_extension": ".py",
   "mimetype": "text/x-python",
   "name": "python",
   "nbconvert_exporter": "python",
   "pygments_lexer": "ipython3",
   "version": "3.10.10"
  }
 },
 "nbformat": 4,
 "nbformat_minor": 1
}
